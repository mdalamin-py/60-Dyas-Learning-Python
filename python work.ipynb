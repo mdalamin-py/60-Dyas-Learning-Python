{
 "cells": [
  {
   "cell_type": "code",
   "execution_count": 9,
   "id": "0d632cb2",
   "metadata": {},
   "outputs": [
    {
     "name": "stdout",
     "output_type": "stream",
     "text": [
      "('hello world', 'welcome to my city')\n"
     ]
    }
   ],
   "source": [
    "var = ('hello world', 'welcome to my city')\n",
    "print(var)"
   ]
  },
  {
   "cell_type": "code",
   "execution_count": 11,
   "id": "b01a3932",
   "metadata": {},
   "outputs": [
    {
     "data": {
      "text/plain": [
       "2787995361408"
      ]
     },
     "execution_count": 11,
     "metadata": {},
     "output_type": "execute_result"
    }
   ],
   "source": [
    "id(var)"
   ]
  },
  {
   "cell_type": "code",
   "execution_count": 13,
   "id": "3d4e1cfc",
   "metadata": {},
   "outputs": [
    {
     "name": "stdout",
     "output_type": "stream",
     "text": [
      "hello world\n",
      "My sentence is hello world\n"
     ]
    }
   ],
   "source": [
    "var = 'hello world'\n",
    "print(var)\n",
    "print('My sentence is '+ var)"
   ]
  },
  {
   "cell_type": "code",
   "execution_count": 14,
   "id": "1d6a149f",
   "metadata": {},
   "outputs": [
    {
     "data": {
      "text/plain": [
       "1254681270576"
      ]
     },
     "execution_count": 14,
     "metadata": {},
     "output_type": "execute_result"
    }
   ],
   "source": [
    "id(var)"
   ]
  },
  {
   "cell_type": "code",
   "execution_count": 18,
   "id": "0d68c441",
   "metadata": {},
   "outputs": [
    {
     "data": {
      "text/plain": [
       "60"
      ]
     },
     "execution_count": 18,
     "metadata": {},
     "output_type": "execute_result"
    }
   ],
   "source": [
    "import sys\n",
    "sys.getsizeof(var)"
   ]
  },
  {
   "cell_type": "code",
   "execution_count": 27,
   "id": "a3427e79",
   "metadata": {},
   "outputs": [],
   "source": [
    "x = 100\n"
   ]
  },
  {
   "cell_type": "code",
   "execution_count": 30,
   "id": "470ebf3a",
   "metadata": {},
   "outputs": [],
   "source": [
    "y = 100"
   ]
  },
  {
   "cell_type": "code",
   "execution_count": 31,
   "id": "0c32a066",
   "metadata": {},
   "outputs": [
    {
     "data": {
      "text/plain": [
       "1254601938384"
      ]
     },
     "execution_count": 31,
     "metadata": {},
     "output_type": "execute_result"
    }
   ],
   "source": [
    "id(x)"
   ]
  },
  {
   "cell_type": "code",
   "execution_count": 32,
   "id": "fac54c50",
   "metadata": {},
   "outputs": [
    {
     "data": {
      "text/plain": [
       "1254601938384"
      ]
     },
     "execution_count": 32,
     "metadata": {},
     "output_type": "execute_result"
    }
   ],
   "source": [
    "id(y)"
   ]
  },
  {
   "cell_type": "code",
   "execution_count": null,
   "id": "f905324b",
   "metadata": {},
   "outputs": [],
   "source": []
  }
 ],
 "metadata": {
  "kernelspec": {
   "display_name": "Python 3 (ipykernel)",
   "language": "python",
   "name": "python3"
  },
  "language_info": {
   "codemirror_mode": {
    "name": "ipython",
    "version": 3
   },
   "file_extension": ".py",
   "mimetype": "text/x-python",
   "name": "python",
   "nbconvert_exporter": "python",
   "pygments_lexer": "ipython3",
   "version": "3.9.13"
  }
 },
 "nbformat": 4,
 "nbformat_minor": 5
}
