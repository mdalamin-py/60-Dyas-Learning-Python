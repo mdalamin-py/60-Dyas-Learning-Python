{
 "cells": [
  {
   "cell_type": "code",
   "execution_count": 4,
   "id": "9f282477",
   "metadata": {},
   "outputs": [],
   "source": [
    "x = 20 #int\n",
    "y = 10.5 #float\n",
    "n = 10+1j #complex"
   ]
  },
  {
   "cell_type": "code",
   "execution_count": 5,
   "id": "dcfdc785",
   "metadata": {},
   "outputs": [
    {
     "data": {
      "text/plain": [
       "int"
      ]
     },
     "execution_count": 5,
     "metadata": {},
     "output_type": "execute_result"
    }
   ],
   "source": [
    "type(x)"
   ]
  },
  {
   "cell_type": "code",
   "execution_count": 6,
   "id": "9984c120",
   "metadata": {},
   "outputs": [
    {
     "data": {
      "text/plain": [
       "float"
      ]
     },
     "execution_count": 6,
     "metadata": {},
     "output_type": "execute_result"
    }
   ],
   "source": [
    "type(y)"
   ]
  },
  {
   "cell_type": "code",
   "execution_count": 7,
   "id": "0ffcb4b8",
   "metadata": {},
   "outputs": [
    {
     "data": {
      "text/plain": [
       "complex"
      ]
     },
     "execution_count": 7,
     "metadata": {},
     "output_type": "execute_result"
    }
   ],
   "source": [
    "type(n)"
   ]
  },
  {
   "cell_type": "code",
   "execution_count": 8,
   "id": "61db8068",
   "metadata": {},
   "outputs": [],
   "source": [
    "x =float(x)"
   ]
  },
  {
   "cell_type": "code",
   "execution_count": 9,
   "id": "d5feb2c4",
   "metadata": {},
   "outputs": [
    {
     "data": {
      "text/plain": [
       "20.0"
      ]
     },
     "execution_count": 9,
     "metadata": {},
     "output_type": "execute_result"
    }
   ],
   "source": [
    "x"
   ]
  },
  {
   "cell_type": "code",
   "execution_count": 10,
   "id": "39ed8157",
   "metadata": {},
   "outputs": [],
   "source": [
    "x = int(x)"
   ]
  },
  {
   "cell_type": "code",
   "execution_count": 11,
   "id": "7ed22390",
   "metadata": {},
   "outputs": [
    {
     "data": {
      "text/plain": [
       "20"
      ]
     },
     "execution_count": 11,
     "metadata": {},
     "output_type": "execute_result"
    }
   ],
   "source": [
    "x"
   ]
  },
  {
   "cell_type": "code",
   "execution_count": 12,
   "id": "84fc3b9a",
   "metadata": {},
   "outputs": [],
   "source": [
    "y = int(y)"
   ]
  },
  {
   "cell_type": "code",
   "execution_count": 13,
   "id": "4aa2acef",
   "metadata": {},
   "outputs": [
    {
     "data": {
      "text/plain": [
       "10"
      ]
     },
     "execution_count": 13,
     "metadata": {},
     "output_type": "execute_result"
    }
   ],
   "source": [
    "y"
   ]
  },
  {
   "cell_type": "code",
   "execution_count": 14,
   "id": "0f48c3f8",
   "metadata": {},
   "outputs": [],
   "source": [
    "y = float(y)"
   ]
  },
  {
   "cell_type": "code",
   "execution_count": 15,
   "id": "a4151eb4",
   "metadata": {},
   "outputs": [
    {
     "data": {
      "text/plain": [
       "10.0"
      ]
     },
     "execution_count": 15,
     "metadata": {},
     "output_type": "execute_result"
    }
   ],
   "source": [
    "y"
   ]
  },
  {
   "cell_type": "code",
   "execution_count": 18,
   "id": "5689528f",
   "metadata": {},
   "outputs": [],
   "source": [
    "x =complex(x)"
   ]
  },
  {
   "cell_type": "code",
   "execution_count": 19,
   "id": "31489ee5",
   "metadata": {},
   "outputs": [
    {
     "data": {
      "text/plain": [
       "(20+0j)"
      ]
     },
     "execution_count": 19,
     "metadata": {},
     "output_type": "execute_result"
    }
   ],
   "source": [
    "x"
   ]
  },
  {
   "cell_type": "code",
   "execution_count": 20,
   "id": "660f86cb",
   "metadata": {},
   "outputs": [
    {
     "ename": "TypeError",
     "evalue": "can't convert complex to int",
     "output_type": "error",
     "traceback": [
      "\u001b[1;31m---------------------------------------------------------------------------\u001b[0m",
      "\u001b[1;31mTypeError\u001b[0m                                 Traceback (most recent call last)",
      "Cell \u001b[1;32mIn[20], line 1\u001b[0m\n\u001b[1;32m----> 1\u001b[0m x \u001b[38;5;241m=\u001b[39m \u001b[38;5;28;43mint\u001b[39;49m\u001b[43m(\u001b[49m\u001b[43mx\u001b[49m\u001b[43m)\u001b[49m\n",
      "\u001b[1;31mTypeError\u001b[0m: can't convert complex to int"
     ]
    }
   ],
   "source": [
    "x = int(x)"
   ]
  },
  {
   "cell_type": "code",
   "execution_count": 21,
   "id": "0860875b",
   "metadata": {},
   "outputs": [
    {
     "data": {
      "text/plain": [
       "True"
      ]
     },
     "execution_count": 21,
     "metadata": {},
     "output_type": "execute_result"
    }
   ],
   "source": [
    "isinstance(x,complex)"
   ]
  },
  {
   "cell_type": "code",
   "execution_count": 22,
   "id": "4ccba5d1",
   "metadata": {},
   "outputs": [
    {
     "data": {
      "text/plain": [
       "True"
      ]
     },
     "execution_count": 22,
     "metadata": {},
     "output_type": "execute_result"
    }
   ],
   "source": [
    "isinstance(y,float)"
   ]
  },
  {
   "cell_type": "code",
   "execution_count": 23,
   "id": "9006eafa",
   "metadata": {},
   "outputs": [
    {
     "data": {
      "text/plain": [
       "False"
      ]
     },
     "execution_count": 23,
     "metadata": {},
     "output_type": "execute_result"
    }
   ],
   "source": [
    "isinstance(x,int)"
   ]
  },
  {
   "cell_type": "code",
   "execution_count": 24,
   "id": "55c4bb45",
   "metadata": {},
   "outputs": [
    {
     "data": {
      "text/plain": [
       "True"
      ]
     },
     "execution_count": 24,
     "metadata": {},
     "output_type": "execute_result"
    }
   ],
   "source": [
    "isinstance(n, complex)"
   ]
  },
  {
   "cell_type": "markdown",
   "id": "09f2be3a",
   "metadata": {},
   "source": [
    "# Boolean data type"
   ]
  },
  {
   "cell_type": "code",
   "execution_count": 25,
   "id": "7e463554",
   "metadata": {},
   "outputs": [],
   "source": [
    "x = True\n",
    "y = False"
   ]
  },
  {
   "cell_type": "code",
   "execution_count": 26,
   "id": "a98781bb",
   "metadata": {},
   "outputs": [
    {
     "ename": "NameError",
     "evalue": "name 'true' is not defined",
     "output_type": "error",
     "traceback": [
      "\u001b[1;31m---------------------------------------------------------------------------\u001b[0m",
      "\u001b[1;31mNameError\u001b[0m                                 Traceback (most recent call last)",
      "Cell \u001b[1;32mIn[26], line 1\u001b[0m\n\u001b[1;32m----> 1\u001b[0m x \u001b[38;5;241m=\u001b[39m \u001b[43mtrue\u001b[49m\n",
      "\u001b[1;31mNameError\u001b[0m: name 'true' is not defined"
     ]
    }
   ],
   "source": [
    "x = true"
   ]
  },
  {
   "cell_type": "code",
   "execution_count": 27,
   "id": "06c21146",
   "metadata": {},
   "outputs": [],
   "source": [
    "x = True"
   ]
  },
  {
   "cell_type": "code",
   "execution_count": 29,
   "id": "8dc2b59e",
   "metadata": {},
   "outputs": [
    {
     "data": {
      "text/plain": [
       "True"
      ]
     },
     "execution_count": 29,
     "metadata": {},
     "output_type": "execute_result"
    }
   ],
   "source": [
    "x"
   ]
  },
  {
   "cell_type": "code",
   "execution_count": 30,
   "id": "910972b6",
   "metadata": {},
   "outputs": [],
   "source": [
    "y = False"
   ]
  },
  {
   "cell_type": "code",
   "execution_count": 32,
   "id": "503c9c57",
   "metadata": {},
   "outputs": [
    {
     "data": {
      "text/plain": [
       "False"
      ]
     },
     "execution_count": 32,
     "metadata": {},
     "output_type": "execute_result"
    }
   ],
   "source": [
    "y"
   ]
  },
  {
   "cell_type": "markdown",
   "id": "c88d0735",
   "metadata": {},
   "source": [
    "# Sequence data type"
   ]
  },
  {
   "cell_type": "code",
   "execution_count": 34,
   "id": "a734d444",
   "metadata": {},
   "outputs": [],
   "source": [
    "l = [1,2,3,4,5,6,'hello',(1,2,3,4,5)]"
   ]
  },
  {
   "cell_type": "code",
   "execution_count": 35,
   "id": "3066702c",
   "metadata": {},
   "outputs": [
    {
     "data": {
      "text/plain": [
       "[1, 2, 3, 4, 5, 6, 'hello', (1, 2, 3, 4, 5)]"
      ]
     },
     "execution_count": 35,
     "metadata": {},
     "output_type": "execute_result"
    }
   ],
   "source": [
    "l"
   ]
  },
  {
   "cell_type": "code",
   "execution_count": 36,
   "id": "a1748443",
   "metadata": {},
   "outputs": [
    {
     "data": {
      "text/plain": [
       "1"
      ]
     },
     "execution_count": 36,
     "metadata": {},
     "output_type": "execute_result"
    }
   ],
   "source": [
    "l[0]"
   ]
  },
  {
   "cell_type": "code",
   "execution_count": 37,
   "id": "dd67dcb7",
   "metadata": {},
   "outputs": [
    {
     "data": {
      "text/plain": [
       "[1, 2, 3, 4]"
      ]
     },
     "execution_count": 37,
     "metadata": {},
     "output_type": "execute_result"
    }
   ],
   "source": [
    "l[0:4]"
   ]
  },
  {
   "cell_type": "code",
   "execution_count": 44,
   "id": "addaa04d",
   "metadata": {},
   "outputs": [
    {
     "data": {
      "text/plain": [
       "(1, 2, 3, 4, 5)"
      ]
     },
     "execution_count": 44,
     "metadata": {},
     "output_type": "execute_result"
    }
   ],
   "source": [
    "l[-1]"
   ]
  },
  {
   "cell_type": "code",
   "execution_count": 48,
   "id": "28086ff7",
   "metadata": {},
   "outputs": [
    {
     "data": {
      "text/plain": [
       "5"
      ]
     },
     "execution_count": 48,
     "metadata": {},
     "output_type": "execute_result"
    }
   ],
   "source": [
    "l[-1][-1]"
   ]
  },
  {
   "cell_type": "code",
   "execution_count": null,
   "id": "e6a023b5",
   "metadata": {},
   "outputs": [],
   "source": []
  }
 ],
 "metadata": {
  "kernelspec": {
   "display_name": "Python 3 (ipykernel)",
   "language": "python",
   "name": "python3"
  },
  "language_info": {
   "codemirror_mode": {
    "name": "ipython",
    "version": 3
   },
   "file_extension": ".py",
   "mimetype": "text/x-python",
   "name": "python",
   "nbconvert_exporter": "python",
   "pygments_lexer": "ipython3",
   "version": "3.9.13"
  }
 },
 "nbformat": 4,
 "nbformat_minor": 5
}
