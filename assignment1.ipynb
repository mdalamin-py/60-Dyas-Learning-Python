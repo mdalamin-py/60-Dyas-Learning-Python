{
 "cells": [
  {
   "cell_type": "code",
   "execution_count": 5,
   "id": "6e3371b9",
   "metadata": {},
   "outputs": [
    {
     "name": "stdout",
     "output_type": "stream",
     "text": [
      "Enter your length number: 10\n",
      "Enter your breadth number: 10\n",
      "it is square\n"
     ]
    }
   ],
   "source": [
    "num1 = int(input('Enter your length number: '))\n",
    "num2 = int(input('Enter your breadth number: '))\n",
    "if num1 == num2:\n",
    "    print('it is square')\n",
    "else:\n",
    "    print('Not')\n"
   ]
  },
  {
   "cell_type": "code",
   "execution_count": 11,
   "id": "a2616525",
   "metadata": {},
   "outputs": [
    {
     "name": "stdout",
     "output_type": "stream",
     "text": [
      "Enter any number: 30\n",
      "Enter any number: 40\n",
      "Enter any number: 60\n",
      "num3 is largest number\n"
     ]
    }
   ],
   "source": [
    "num1 = float(input('Enter any number: '))\n",
    "num2 = float(input('Enter any number: '))\n",
    "num3 = float(input('Enter any number: '))\n",
    "if num1>num2 and num2>num3:\n",
    "    print('Num1 is largest')\n",
    "elif num2>num1 and num2>num3:\n",
    "    print('Num2 is largest')\n",
    "else:\n",
    "    print('num3 is largest number')"
   ]
  },
  {
   "cell_type": "code",
   "execution_count": 15,
   "id": "18b0beb6",
   "metadata": {},
   "outputs": [
    {
     "name": "stdout",
     "output_type": "stream",
     "text": [
      "Enter any number: 80\n",
      "Student will not allowed to sit in exam\n"
     ]
    }
   ],
   "source": [
    "at = float(input('Enter any number: '))\n",
    "if (at*100)>75:\n",
    "    print('Student will not allowed to sit in exam')\n",
    "else:\n",
    "    print('Student will allowed to sit in exam')"
   ]
  },
  {
   "cell_type": "code",
   "execution_count": null,
   "id": "9505b97d",
   "metadata": {},
   "outputs": [],
   "source": [
    "a = float(input('Enter any number: '))\n",
    "if a<25:\n",
    "    print('')\n",
    "    "
   ]
  }
 ],
 "metadata": {
  "kernelspec": {
   "display_name": "Python 3 (ipykernel)",
   "language": "python",
   "name": "python3"
  },
  "language_info": {
   "codemirror_mode": {
    "name": "ipython",
    "version": 3
   },
   "file_extension": ".py",
   "mimetype": "text/x-python",
   "name": "python",
   "nbconvert_exporter": "python",
   "pygments_lexer": "ipython3",
   "version": "3.9.13"
  }
 },
 "nbformat": 4,
 "nbformat_minor": 5
}
