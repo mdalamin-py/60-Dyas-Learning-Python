{
 "cells": [
  {
   "cell_type": "code",
   "execution_count": 2,
   "id": "fab1faf5",
   "metadata": {},
   "outputs": [],
   "source": [
    "data = '60 days of python'"
   ]
  },
  {
   "cell_type": "code",
   "execution_count": 8,
   "id": "a7a86db7",
   "metadata": {},
   "outputs": [
    {
     "data": {
      "text/plain": [
       "2"
      ]
     },
     "execution_count": 8,
     "metadata": {},
     "output_type": "execute_result"
    }
   ],
   "source": [
    "data.count('o')"
   ]
  },
  {
   "cell_type": "code",
   "execution_count": 9,
   "id": "51b6e9e1",
   "metadata": {},
   "outputs": [],
   "source": [
    "data = '60 days of python'"
   ]
  },
  {
   "cell_type": "code",
   "execution_count": 10,
   "id": "2e99b18d",
   "metadata": {},
   "outputs": [
    {
     "data": {
      "text/plain": [
       "8"
      ]
     },
     "execution_count": 10,
     "metadata": {},
     "output_type": "execute_result"
    }
   ],
   "source": [
    "data.find('o')"
   ]
  },
  {
   "cell_type": "code",
   "execution_count": 11,
   "id": "46f0c169",
   "metadata": {},
   "outputs": [],
   "source": [
    "data = '60 days of python'"
   ]
  },
  {
   "cell_type": "code",
   "execution_count": 18,
   "id": "82aa18d6",
   "metadata": {},
   "outputs": [
    {
     "data": {
      "text/plain": [
       "-1"
      ]
     },
     "execution_count": 18,
     "metadata": {},
     "output_type": "execute_result"
    }
   ],
   "source": [
    "data.find('n', 12, 16)"
   ]
  },
  {
   "cell_type": "code",
   "execution_count": 19,
   "id": "221df5b0",
   "metadata": {},
   "outputs": [
    {
     "data": {
      "text/plain": [
       "'60 DAYS OF PYTHON'"
      ]
     },
     "execution_count": 19,
     "metadata": {},
     "output_type": "execute_result"
    }
   ],
   "source": [
    "data.upper()"
   ]
  },
  {
   "cell_type": "code",
   "execution_count": 20,
   "id": "b234be9c",
   "metadata": {},
   "outputs": [
    {
     "data": {
      "text/plain": [
       "'60 days of python'"
      ]
     },
     "execution_count": 20,
     "metadata": {},
     "output_type": "execute_result"
    }
   ],
   "source": [
    "data.lower()"
   ]
  },
  {
   "cell_type": "code",
   "execution_count": 21,
   "id": "d484ae75",
   "metadata": {},
   "outputs": [
    {
     "data": {
      "text/plain": [
       "'60 Days Of Python'"
      ]
     },
     "execution_count": 21,
     "metadata": {},
     "output_type": "execute_result"
    }
   ],
   "source": [
    "data.title()"
   ]
  },
  {
   "cell_type": "code",
   "execution_count": 22,
   "id": "a4f36f66",
   "metadata": {},
   "outputs": [
    {
     "data": {
      "text/plain": [
       "'python'"
      ]
     },
     "execution_count": 22,
     "metadata": {},
     "output_type": "execute_result"
    }
   ],
   "source": [
    "data.split()[-1]"
   ]
  },
  {
   "cell_type": "code",
   "execution_count": 24,
   "id": "39fe346f",
   "metadata": {},
   "outputs": [],
   "source": [
    "data = 'is this a python program'"
   ]
  },
  {
   "cell_type": "code",
   "execution_count": 25,
   "id": "5721dc6e",
   "metadata": {},
   "outputs": [
    {
     "data": {
      "text/plain": [
       "'Is this a python program'"
      ]
     },
     "execution_count": 25,
     "metadata": {},
     "output_type": "execute_result"
    }
   ],
   "source": [
    "data.capitalize()"
   ]
  },
  {
   "cell_type": "code",
   "execution_count": 26,
   "id": "f800980c",
   "metadata": {},
   "outputs": [
    {
     "data": {
      "text/plain": [
       "'Is This A Python Program'"
      ]
     },
     "execution_count": 26,
     "metadata": {},
     "output_type": "execute_result"
    }
   ],
   "source": [
    "data.title()"
   ]
  },
  {
   "cell_type": "code",
   "execution_count": 27,
   "id": "5a740066",
   "metadata": {},
   "outputs": [
    {
     "data": {
      "text/plain": [
       "'IS THIS A PYTHON PROGRAM'"
      ]
     },
     "execution_count": 27,
     "metadata": {},
     "output_type": "execute_result"
    }
   ],
   "source": [
    "data.swapcase()"
   ]
  },
  {
   "cell_type": "code",
   "execution_count": 28,
   "id": "8e9de899",
   "metadata": {},
   "outputs": [
    {
     "data": {
      "text/plain": [
       "'is this a python program'"
      ]
     },
     "execution_count": 28,
     "metadata": {},
     "output_type": "execute_result"
    }
   ],
   "source": [
    "data.casefold()"
   ]
  },
  {
   "cell_type": "code",
   "execution_count": 29,
   "id": "ccad7df4",
   "metadata": {},
   "outputs": [
    {
     "data": {
      "text/plain": [
       "False"
      ]
     },
     "execution_count": 29,
     "metadata": {},
     "output_type": "execute_result"
    }
   ],
   "source": [
    "data.isdigit()"
   ]
  },
  {
   "cell_type": "code",
   "execution_count": 32,
   "id": "66d4f463",
   "metadata": {},
   "outputs": [
    {
     "data": {
      "text/plain": [
       "\"it's a python program\""
      ]
     },
     "execution_count": 32,
     "metadata": {},
     "output_type": "execute_result"
    }
   ],
   "source": [
    "data.replace('is this a', \"it's a\")"
   ]
  },
  {
   "cell_type": "code",
   "execution_count": 33,
   "id": "bdcd7840",
   "metadata": {},
   "outputs": [
    {
     "data": {
      "text/plain": [
       "b'is this a python program'"
      ]
     },
     "execution_count": 33,
     "metadata": {},
     "output_type": "execute_result"
    }
   ],
   "source": [
    "data.encode()"
   ]
  },
  {
   "cell_type": "code",
   "execution_count": 34,
   "id": "571f41f5",
   "metadata": {},
   "outputs": [
    {
     "name": "stdout",
     "output_type": "stream",
     "text": [
      "This is 1500 taka\n"
     ]
    }
   ],
   "source": [
    "y = 500\n",
    "x = 1000\n",
    "z = y+x\n",
    "print('This is', z,'taka')"
   ]
  },
  {
   "cell_type": "code",
   "execution_count": 35,
   "id": "096daedf",
   "metadata": {},
   "outputs": [
    {
     "name": "stdout",
     "output_type": "stream",
     "text": [
      "This is 1500 taka\n"
     ]
    }
   ],
   "source": [
    "print('This is {} taka'.format(z))"
   ]
  },
  {
   "cell_type": "code",
   "execution_count": 36,
   "id": "086b4572",
   "metadata": {},
   "outputs": [
    {
     "name": "stdout",
     "output_type": "stream",
     "text": [
      "hello world\n"
     ]
    }
   ],
   "source": [
    "x = input()"
   ]
  },
  {
   "cell_type": "code",
   "execution_count": 37,
   "id": "024e67a5",
   "metadata": {},
   "outputs": [
    {
     "name": "stdout",
     "output_type": "stream",
     "text": [
      "hello world\n"
     ]
    }
   ],
   "source": [
    "y = input()"
   ]
  },
  {
   "cell_type": "code",
   "execution_count": 2,
   "id": "fc4751ce",
   "metadata": {},
   "outputs": [
    {
     "name": "stdout",
     "output_type": "stream",
     "text": [
      "200\n",
      "100\n"
     ]
    }
   ],
   "source": [
    "x = input()\n",
    "y = input()"
   ]
  },
  {
   "cell_type": "code",
   "execution_count": 3,
   "id": "5210b6b9",
   "metadata": {},
   "outputs": [],
   "source": [
    "z = x+y"
   ]
  },
  {
   "cell_type": "code",
   "execution_count": 4,
   "id": "8999cefc",
   "metadata": {},
   "outputs": [
    {
     "data": {
      "text/plain": [
       "'200100'"
      ]
     },
     "execution_count": 4,
     "metadata": {},
     "output_type": "execute_result"
    }
   ],
   "source": [
    "z"
   ]
  },
  {
   "cell_type": "code",
   "execution_count": 5,
   "id": "f635ea99",
   "metadata": {},
   "outputs": [
    {
     "data": {
      "text/plain": [
       "str"
      ]
     },
     "execution_count": 5,
     "metadata": {},
     "output_type": "execute_result"
    }
   ],
   "source": [
    "type(z)"
   ]
  },
  {
   "cell_type": "code",
   "execution_count": 6,
   "id": "3cc491da",
   "metadata": {},
   "outputs": [
    {
     "data": {
      "text/plain": [
       "300"
      ]
     },
     "execution_count": 6,
     "metadata": {},
     "output_type": "execute_result"
    }
   ],
   "source": [
    "x = int(x)\n",
    "y = int(y)\n",
    "x+y"
   ]
  },
  {
   "cell_type": "code",
   "execution_count": null,
   "id": "b0a089a7",
   "metadata": {},
   "outputs": [],
   "source": []
  }
 ],
 "metadata": {
  "kernelspec": {
   "display_name": "Python 3 (ipykernel)",
   "language": "python",
   "name": "python3"
  },
  "language_info": {
   "codemirror_mode": {
    "name": "ipython",
    "version": 3
   },
   "file_extension": ".py",
   "mimetype": "text/x-python",
   "name": "python",
   "nbconvert_exporter": "python",
   "pygments_lexer": "ipython3",
   "version": "3.9.13"
  }
 },
 "nbformat": 4,
 "nbformat_minor": 5
}
